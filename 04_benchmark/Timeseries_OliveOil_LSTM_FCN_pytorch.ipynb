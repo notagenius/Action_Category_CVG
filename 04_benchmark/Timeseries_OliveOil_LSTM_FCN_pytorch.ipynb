




<!DOCTYPE html>
<html lang="en">
  <head>
    <meta charset="utf-8">
  <link rel="dns-prefetch" href="https://github.githubassets.com">
  <link rel="dns-prefetch" href="https://avatars0.githubusercontent.com">
  <link rel="dns-prefetch" href="https://avatars1.githubusercontent.com">
  <link rel="dns-prefetch" href="https://avatars2.githubusercontent.com">
  <link rel="dns-prefetch" href="https://avatars3.githubusercontent.com">
  <link rel="dns-prefetch" href="https://github-cloud.s3.amazonaws.com">
  <link rel="dns-prefetch" href="https://user-images.githubusercontent.com/">



  <link crossorigin="anonymous" media="all" integrity="sha512-FG+rXqMOivrAjdEQE7tO4BwM1poGmg70hJFTlNSxjX87grtrZ6UnPR8NkzwUHlQEGviu9XuRYeO8zH9YwvZhdg==" rel="stylesheet" href="https://github.githubassets.com/assets/frameworks-146fab5ea30e8afac08dd11013bb4ee0.css" />
  
    <link crossorigin="anonymous" media="all" integrity="sha512-wg3QVfoncez7piRCjZypF1qdLLkudSCbtGxhHxKtSkNtujTdi6zzn8yM28xmV0B2I0BwAKc6K90WnqX6CspFVA==" rel="stylesheet" href="https://github.githubassets.com/assets/github-c20dd055fa2771ecfba624428d9ca917.css" />
    
    
    
    


  <meta name="viewport" content="width=device-width">
  
  <title>deepprojects/Timeseries_OliveOil_LSTM_FCN_pytorch.ipynb at master · dzlab/deepprojects</title>
    <meta name="description" content="A non-ending collection of jupyter notebooks. Contribute to dzlab/deepprojects development by creating an account on GitHub.">
    <link rel="search" type="application/opensearchdescription+xml" href="/opensearch.xml" title="GitHub">
  <link rel="fluid-icon" href="https://github.com/fluidicon.png" title="GitHub">
  <meta property="fb:app_id" content="1401488693436528">

    <meta name="twitter:image:src" content="https://avatars0.githubusercontent.com/u/1645304?s=400&amp;v=4" /><meta name="twitter:site" content="@github" /><meta name="twitter:card" content="summary" /><meta name="twitter:title" content="dzlab/deepprojects" /><meta name="twitter:description" content="A non-ending collection of jupyter notebooks. Contribute to dzlab/deepprojects development by creating an account on GitHub." />
    <meta property="og:image" content="https://avatars0.githubusercontent.com/u/1645304?s=400&amp;v=4" /><meta property="og:site_name" content="GitHub" /><meta property="og:type" content="object" /><meta property="og:title" content="dzlab/deepprojects" /><meta property="og:url" content="https://github.com/dzlab/deepprojects" /><meta property="og:description" content="A non-ending collection of jupyter notebooks. Contribute to dzlab/deepprojects development by creating an account on GitHub." />

  <link rel="assets" href="https://github.githubassets.com/">
    <link rel="web-socket" href="wss://live.github.com/_sockets/VjI6NTM1MzE5ODU4OjM2ZjE2NTY2MzAwODA3Nzc1OWNhNmJmYzViZDkwYmEzOTU4MTJmNWExYTIxYjUwZDcyZDE5YjIxNTZiMTAzN2Q=--25d217f9900182c26fb575818160794e5782bf63">
  <link rel="sudo-modal" href="/sessions/sudo_modal">

  <meta name="request-id" content="9E88:D2E5:1AE155:27DDAA:5EC742ED" data-pjax-transient="true" /><meta name="html-safe-nonce" content="a7581ec22bb5cdf2c9e5c23fdb1d138eb716a6f4" data-pjax-transient="true" /><meta name="visitor-payload" content="eyJyZWZlcnJlciI6Imh0dHBzOi8vZ2l0aHViLmNvbS9kemxhYi9kZWVwcHJvamVjdHMvdHJlZS9tYXN0ZXIvdGltZXNlcmllcyIsInJlcXVlc3RfaWQiOiI5RTg4OkQyRTU6MUFFMTU1OjI3RERBQTo1RUM3NDJFRCIsInZpc2l0b3JfaWQiOiI0NTkwOTE0NDY3MjUxNzk4Mjk0IiwicmVnaW9uX2VkZ2UiOiJhbXMiLCJyZWdpb25fcmVuZGVyIjoiaWFkIn0=" data-pjax-transient="true" /><meta name="visitor-hmac" content="962d9b341bc622c5cc5146f401aed72742e1c9d5db23ae209836b3bf0af30efa" data-pjax-transient="true" />



  <meta name="github-keyboard-shortcuts" content="repository,source-code" data-pjax-transient="true" />

  

  <meta name="selected-link" value="repo_source" data-pjax-transient>

    <meta name="google-site-verification" content="KT5gs8h0wvaagLKAVWq8bbeNwnZZK1r1XQysX3xurLU">
  <meta name="google-site-verification" content="ZzhVyEFwb7w3e0-uOTltm8Jsck2F5StVihD0exw2fsA">
  <meta name="google-site-verification" content="GXs5KoUUkNCoaAZn7wPN-t01Pywp9M3sEjnt_3_ZWPc">

<meta name="octolytics-host" content="collector.githubapp.com" /><meta name="octolytics-app-id" content="github" /><meta name="octolytics-event-url" content="https://collector.githubapp.com/github-external/browser_event" /><meta name="octolytics-dimension-ga_id" content="" class="js-octo-ga-id" /><meta name="octolytics-actor-id" content="27588275" /><meta name="octolytics-actor-login" content="notagenius" /><meta name="octolytics-actor-hash" content="1d9f711bcc588f7860be9a6d949e8865ee3321aa6270503097d67cfbab9ebdbc" />
<meta name="analytics-location" content="/&lt;user-name&gt;/&lt;repo-name&gt;/blob/show" data-pjax-transient="true" />


<meta name="optimizely-sdk-key" content="cowimJNste4j7QnBNCjaw" />

    <meta name="google-analytics" content="UA-3769691-2">

  <meta class="js-ga-set" name="userId" content="aae4f4057af0815b146f8824ee7477c3">

<meta class="js-ga-set" name="dimension1" content="Logged In">



  

      <meta name="hostname" content="github.com">
    <meta name="user-login" content="notagenius">

      <meta name="expected-hostname" content="github.com">

      <meta name="js-proxy-site-detection-payload" content="M2Y4ZGI2M2ExNDQ0Y2Q2Nzk5YWJmZWI4Y2NjNjFjYmU4YTMxYzI1ODcxY2Q2ZDEzMTdhMzhjYTgyYTdjZGU4M3x7InJlbW90ZV9hZGRyZXNzIjoiMTMxLjIyMC4xNTQuMjUwIiwicmVxdWVzdF9pZCI6IjlFODg6RDJFNToxQUUxNTU6MjdEREFBOjVFQzc0MkVEIiwidGltZXN0YW1wIjoxNTkwMTE3MTAyLCJob3N0IjoiZ2l0aHViLmNvbSJ9">

    <meta name="enabled-features" content="MARKETPLACE_PENDING_INSTALLATIONS,PAGE_STALE_CHECK,JS_CHUNKING">

  <meta http-equiv="x-pjax-version" content="8f2ed937902013164094f5591bb0ff38">
  

      <link href="https://github.com/dzlab/deepprojects/commits/master.atom" rel="alternate" title="Recent Commits to deepprojects:master" type="application/atom+xml">

  <meta name="go-import" content="github.com/dzlab/deepprojects git https://github.com/dzlab/deepprojects.git">

  <meta name="octolytics-dimension-user_id" content="1645304" /><meta name="octolytics-dimension-user_login" content="dzlab" /><meta name="octolytics-dimension-repository_id" content="154967141" /><meta name="octolytics-dimension-repository_nwo" content="dzlab/deepprojects" /><meta name="octolytics-dimension-repository_public" content="true" /><meta name="octolytics-dimension-repository_is_fork" content="false" /><meta name="octolytics-dimension-repository_network_root_id" content="154967141" /><meta name="octolytics-dimension-repository_network_root_nwo" content="dzlab/deepprojects" /><meta name="octolytics-dimension-repository_explore_github_marketplace_ci_cta_shown" content="false" />


    <link rel="canonical" href="https://github.com/dzlab/deepprojects/blob/master/timeseries/Timeseries_OliveOil_LSTM_FCN_pytorch.ipynb" data-pjax-transient>


  <meta name="browser-stats-url" content="https://api.github.com/_private/browser/stats">

  <meta name="browser-errors-url" content="https://api.github.com/_private/browser/errors">

  <link rel="mask-icon" href="https://github.githubassets.com/pinned-octocat.svg" color="#000000">
  <link rel="alternate icon" class="js-site-favicon" type="image/png" href="https://github.githubassets.com/favicons/favicon.png">
  <link rel="icon" class="js-site-favicon" type="image/svg+xml" href="https://github.githubassets.com/favicons/favicon.svg">

<meta name="theme-color" content="#1e2327">


  <link rel="manifest" href="/manifest.json" crossOrigin="use-credentials">

  </head>

  <body class="logged-in env-production page-responsive page-blob">
    

    <div class="position-relative js-header-wrapper ">
      <a href="#start-of-content" class="p-3 bg-blue text-white show-on-focus js-skip-to-content">Skip to content</a>
      <span class="Progress progress-pjax-loader position-fixed width-full js-pjax-loader-bar">
        <span class="progress-pjax-loader-bar top-0 left-0" style="width: 0%;"></span>
      </span>

      
      



          <header class="Header py-lg-0 js-details-container Details flex-wrap flex-lg-nowrap p-responsive" role="banner">
  <div class="Header-item d-none d-lg-flex">
    <a class="Header