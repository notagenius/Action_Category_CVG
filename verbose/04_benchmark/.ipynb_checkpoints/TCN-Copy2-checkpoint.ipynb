{
 "cells": [
  {
   "cell_type": "code",
   "execution_count": 1,
   "metadata": {
    "colab": {},
    "colab_type": "code",
    "id": "vTDHog-dM_NL"
   },
   "outputs": [],
   "source": [
    "from __future__ import print_function, division\n",
    "import torch\n",
    "import torch.nn as nn\n",
    "import torch.optim as optim\n",
    "import torch.nn.functional as F\n",
    "from torch.utils.data import DataLoader, Dataset\n",
    "from torch.optim import lr_scheduler\n",
    "import numpy as np\n",
    "import torchvision\n",
    "from torchvision import datasets, models, transforms\n",
    "import matplotlib.pyplot as plt\n",
    "import time\n",
    "import os\n",
    "import copy\n",
    "import numpy as np\n",
    "from torch import nn\n",
    "import argparse\n",
    "import glob\n",
    "from tensorboardX import SummaryWriter\n",
    "import pandas as pd\n",
    "\n",
    "import pathlib\n",
    "import numpy as np\n",
    "\n",
    "\n",
    "import torch\n",
    "import torch.nn as nn\n",
    "import torch.nn.functional as F\n",
    "from torch.utils.data import TensorDataset, DataLoader\n",
    "\n",
    "import matplotlib.pyplot as plt\n",
    "\n",
    "from tqdm import tqdm\n",
    "\n",
    "import torch\n",
    "from torch.autograd import Variable\n",
    "import torch.optim as optim\n",
    "import torch.nn.functional as F\n",
    "import sys\n",
    "sys.path.append(\"../../\")\n",
    "from utils import data_generator\n",
    "import numpy as np\n",
    "import argparse\n",
    "from tensorboardX import SummaryWriter\n",
    "from torchsummary import summary\n",
    "from torch.nn.modules.module import _addindent\n",
    "\n"
   ]
  },
  {
   "cell_type": "code",
   "execution_count": 2,
   "metadata": {
    "colab": {},
    "colab_type": "code",
    "id": "E634Ocm-N5j0"
   },
   "outputs": [],
   "source": [
    "def parse_command_line():\n",
    "    parser = argparse.ArgumentParser()\n",
    "    parser.add_argument('-n', '--net', type=str, default='simpleLSTM', help='task to be trained')\n",
    "    parser.add_argument('-f', '--file', type=str, default='simpleLSTM', help='tensorboard location')\n",
    "    parser.add_argument('-r', '--runs', type=str, default='test/simpleLSTM', help='tensorboard location')\n",
    "    parser.add_argument('-b', '--batchsize', type=int, default=64, help='batchsize')\n",
    "    parser.add_argument('-m', '--max', type=int, default=20, help='batchsize')\n",
    "    parser.add_argument('-l', '--force_learning_rate', type=float, default=0.00001, help='setting learning rate')\n",
    "    args = parser.parse_args()\n",
    "    return args"
   ]
  },
  {
   "cell_type": "code",
   "execution_count": 3,
   "metadata": {
    "colab": {},
    "colab_type": "code",
    "id": "Srz8zJtmOCDs"
   },
   "outputs": [],
   "source": [
    "opt = parse_command_line()\n",
    "writer = SummaryWriter(opt.runs)\n",
    "params = { 'batch_size': opt.batchsize, 'shuffle': True, 'num_workers': 10, 'drop_last': True}\n",
    "learning_rate = opt.force_learning_rate\n",
    "\n",
    "data = {'Data_hz': 2, 'Frame_len': 25}\n"
   ]
  },
  {
   "cell_type": "code",
   "execution_count": 4,
   "metadata": {
    "colab": {},
    "colab_type": "code",
    "id": "loAFquISOIQj"
   },
   "outputs": [],
   "source": [
    "def get_filename_type(file):\n",
    "    filename = file.split(\"/\")[-1].split('.')[:-1]\n",
    "    file_type = file.split(\"/\")[-1].split('.')[-1]\n",
    "    return filename, file_type\n",
    "\n"
   ]
  },
  {
   "cell_type": "code",
   "execution_count": 5,
   "metadata": {
    "colab": {},
    "colab_type": "code",
    "id": "sCHGjY68ON1d"
   },
   "outputs": [],
   "source": [
    "class my_dataset(Dataset):\n",
    "    def __init__(self, csv_path_folder, npy_path_folder, data_hz, frame_len):\n",
    "        \n",
    "        self.data_hz = data_hz\n",
    "        self.frame_len = frame_len\n",
    "\n",
    "        # txt\n",
    "        self.csv_filenames = sorted(glob.glob(csv_path_folder))\n",
    "        self.csv_list_of_dfs = [np.loadtxt(filename, dtype=np.long) for filename in self.csv_filenames]\n",
    "        self.csv_dataframes = {}\n",
    "        self.csv_filename = []\n",
    "        self.csv_result = []\n",
    "        for csv_dataframe, csv_filename in zip(self.csv_list_of_dfs, self.csv_filenames):\n",
    "            tmp_name,_= get_filename_type(csv_filename)\n",
    "            self.csv_filename.append(tmp_name)\n",
    "            self.csv_dataframes[csv_filename] = csv_dataframe\n",
    "        for i in self.csv_list_of_dfs:\n",
    "            for j in range(len(i)-(self.frame_len-1)*self.data_hz):\n",
    "                tmp_list=[]\n",
    "                for k in range(self.frame_len):\n",
    "                    tmp_list.append(i[j+k*self.data_hz].argmax(axis=0))\n",
    "                    #tmp_list.append(i[j+k*self.data_hz])\n",
    "                self.csv_result.append(tmp_list[-1])\n",
    "        self.csv_conbined_df = np.concatenate(self.csv_list_of_dfs)\n",
    "        self.csv_torch_tensor = torch.tensor(self.csv_conbined_df)\n",
    "        print(self.csv_result[0])\n",
    "        # npy\n",
    "        self.npy_filenames = sorted(glob.glob(npy_path_folder))\n",
    "        self.npy_list_of_frames = [np.load(filename) for filename in self.npy_filenames]\n",
    "        self.npy_inputs = {}\n",
    "        self.npy_filename = []\n",
    "        self.npy_result = []\n",
    "\n",
    "        for i in self.npy_list_of_frames:\n",
    "            for j in range(len(i)-(self.frame_len-1)*self.data_hz):\n",
    "                tmp_list=[]\n",
    "                for k in range(self.frame_len):\n",
    "                    tmp_list.append(np.concatenate(i[j+k*self.data_hz]))\n",
    "                self.npy_result.append(tmp_list)\n",
    "\n",
    "        for npy_input, npy_filename in zip(self.npy_list_of_frames, self.npy_filenames):\n",
    "            tmp_name,_= get_filename_type(npy_filename)\n",
    "            if tmp_name not in self.csv_filename:\n",
    "                self.npy_inputs[npy_filename] = npy_input\n",
    "        self.npy_conbined_inputs = np.concatenate(self.npy_list_of_frames, axis=0, out=None)\n",
    "        self.npy_torch_tensor = torch.tensor(self.npy_conbined_inputs)\n",
    "        \n",
    "        print(\"length of input skeleton is:\"+str(len(self.npy_conbined_inputs))+\" mod of batch size is:\"+str(len(self.npy_conbined_inputs)%params['batch_size']))\n",
    "        print(\"length of input label is:\"+str(len(self.csv_conbined_df))+\" mod of batch size is:\"+str(len(self.csv_conbined_df)%params['batch_size']))\n",
    "\n",
    "    def __len__(self):\n",
    "        return len(self.csv_result)\n",
    "\n",
    "    def __getitem__(self, index):\n",
    "        return np.asarray(self.npy_result[index]),np.asarray(self.csv_result[index])\n"
   ]
  },
  {
   "cell_type": "code",
   "execution_count": 6,
   "metadata": {
    "colab": {},
    "colab_type": "code",
    "id": "ogCNSI__OW8B"
   },
   "outputs": [],
   "source": [
    "class BlockLSTM(nn.Module):\n",
    "    def __init__(self, time_steps, num_variables, num_classes, lstm_hs):\n",
    "        super().__init__()\n",
    "        #self.lstm = nn.LSTM(input_size=num_variables, hidden_size=lstm_hs, num_layers=time_steps)\n",
    "        \n",
    "        self.lstm = nn.LSTM(input_size=time_steps, hidden_size=lstm_hs, num_layers=num_variables)\n",
    "        #self.dropout = nn.Dropout(p=dropout)\n",
    "        #self.fc = nn.Linear(lstm_hs, num_classes)\n",
    "        self.dense = nn.Linear(lstm_hs, num_classes)\n",
    "        self.softmax = nn.LogSoftmax(dim=1) #nn.Softmax(dim=1)\n",
    "    def forward(self, x):\n",
    "        # (batch_size, num_variables, time_steps), e.g. (128, 1, 512)\n",
    "        # x = torch.transpose(x, 0, 1)\n",
    "        # (num_variables, batch_size, time_steps)\n",
    "        x,_ = self.lstm(x)\n",
    "        # dropout layer input shape:\n",
    "        # y = self.dropout(x)\n",
    "        # output shape is of the form ()\n",
    "        #y = self.fc(x)\n",
    "        #x = self.dense(x[:, -1, :])\n",
    "        #x = torch.squeeze(x)\n",
    "        # pass through Softmax activation\n",
    "        #y = self.softmax(x)\n",
    "        return x[:, -1, :]"
   ]
  },
  {
   "cell_type": "code",
   "execution_count": 7,
   "metadata": {},
   "outputs": [],
   "source": [
    "import torch.nn.functional as F\n",
    "from torch import nn\n",
    "from tcn import TemporalConvNet\n",
    "\n",
    "\n",
    "class TCN(nn.Module):\n",
    "    def __init__(self, input_size, output_size, num_channels, kernel_size, dropout):\n",
    "        super(TCN, self).__init__()\n",
    "        self.tcn = TemporalConvNet(input_size, num_channels, kernel_size=kernel_size, dropout=dropout)\n",
    "        #self.linear = nn.Linear(num_channels[-1], output_size)\n",
    "        self.dense = nn.Linear(num_channels[-1], output_size)\n",
    "        self.softmax = nn.LogSoftmax(dim=1) #nn.Softmax(dim=1)\n",
    "\n",
    "    def forward(self, inputs):\n",
    "        \"\"\"Inputs have to have dimension (N, C_in, L_in)\"\"\"\n",
    "        y1 = self.tcn(inputs)  # input should have dimension (N, C, L)\n",
    "        #x = self.dense(y1[:, :, -1])\n",
    "        #x = torch.squeeze(x)\n",
    "        # pass through Softmax activation\n",
    "        #y = self.softmax(x)\n",
    "        return y1[:, :, -1]"
   ]
  },
  {
   "cell_type": "code",
   "execution_count": 8,
   "metadata": {
    "colab": {},
    "colab_type": "code",
    "id": "CQmv48K-xCcs"
   },
   "outputs": [],
   "source": [
    "class LSTMTCN(nn.Module):\n",
    "    def __init__(self, time_steps, num_variables, num_classes, lstm_hs, input_size, output_size, num_channels, kernel_size, dropout):\n",
    "        super().__init__()\n",
    "        self.lstm_block = BlockLSTM(time_steps, num_variables, num_classes,lstm_hs )\n",
    "        self.kernel_size = 7\n",
    "        self.tcn_block = TCN(input_size, output_size, num_channels, kernel_size, dropout)\n",
    "        self.dense = nn.Linear(num_channels[-1] + lstm_hs, 10)\n",
    "        self.softmax = nn.LogSoftmax(dim=1) #nn.Softmax(dim=1)\n",
    "    def forward(self, x):\n",
    "        # input is (batch_size, time_steps), it has to be (batch_size, 1, time_steps)\n",
    "        # x = x.unsqueeze(1)\n",
    "        # pass input through LSTM block\n",
    "        x1 = self.lstm_block(x)\n",
    "        print(x1.size())\n",
    "        x1 = torch.squeeze(x1)\n",
    "        # pass input through FCN block\n",
    "        x2 = self.tcn_block(x)\n",
    "        print(x2.size())\n",
    "        x2 = torch.squeeze(x2)\n",
    "        # concatenate blocks output\n",
    "        x = torch.cat([x1, x2], 1)\n",
    "        print(x.size())\n",
    "        # pass through Linear layer\n",
    "        x = self.dense(x)\n",
    "        #x = torch.squeeze(x)\n",
    "        # pass through Softmax activation\n",
    "        y = self.softmax(x)\n",
    "        return y"
   ]
  },
  {
   "cell_type": "code",
   "execution_count": 9,
   "metadata": {
    "colab": {},
    "colab_type": "code",
    "id": "IMO3YlwCWkN3"
   },
   "outputs": [],
   "source": [
    "class SimpleLearner():\n",
    "    def __init__(self, data, model, loss_func, wd = 1e-5):\n",
    "        self.data, self.model, self.loss_func = data , model , loss_func \n",
    "        self.wd = wd\n",
    "    \n",
    "    def update_manualgrad(self, x,y,lr):\n",
    "        y_hat = self.model(x)\n",
    "        # weight decay\n",
    "        w2 = 0.\n",
    "        for p in model.parameters(): w2 += (p**2).sum()\n",
    "        # add to regular loss\n",
    "        loss = self.loss_func(y_hat, y) + w2 * self.wd\n",
    "        loss.backward()\n",
    "        with torch.no_grad():\n",
    "            for p in model.parameters():\n",
    "                p.sub_(lr * p.grad)\n",
    "                p.grad.zero_()\n",
    "        return loss.item()\n",
    "\n",
    "    def update(self, x,y,lr):\n",
    "        #x = x.reshape(-1, 25, 96).cuda()\n",
    "        x = x.view(-1, 1, 2400).cuda()\n",
    "        y = y.cuda()\n",
    "        opt = optim.Adam(self.model.parameters(), lr)\n",
    "        y_hat = self.model(x)\n",
    "        loss = self.loss_func(y_hat, y)\n",
    "        loss.backward()\n",
    "        opt.step()\n",
    "        opt.zero_grad()\n",
    "        return loss.item()\n",
    "\n",
    "    def fit(self, epochs=1, lr=1e-3):\n",
    "        \"\"\"Train the model\"\"\"\n",
    "        losses = []\n",
    "        for i in range(epochs):\n",
    "            for x,y in self.data[0]:\n",
    "                current_loss = self.update(x, y , lr)\n",
    "                losses.append(current_loss)\n",
    "        return losses\n",
    "    \n",
    "    def evaluate(self, X):\n",
    "        \"\"\"Evaluate the given data loader on the model and return predictions\"\"\"\n",
    "        result = None\n",
    "        gt = None\n",
    "        for x, y in X:\n",
    "            x = x.view(-1, 1, 2400).cuda()\n",
    "            #y = y.cuda()\n",
    "            y_hat = self.model(x).cpu().detach().numpy()\n",
    "            result = y_hat.argmax(axis=1) if result is None else np.concatenate((result, y_hat.argmax(axis=1)), axis=0)\n",
    "            gt = y if gt is None else np.concatenate((gt, y), axis=0)\n",
    "        return result, gt"
   ]
  },
  {
   "cell_type": "code",
   "execution_count": 10,
   "metadata": {},
   "outputs": [],
   "source": [
    "def real_evaluation(validation_generator):\n",
    "    y_pred, gt = learner.evaluate(validation_generator)\n",
    "    #result = []\n",
    "    #exp = np.exp(y_pred)\n",
    "    #for i in exp[:,-1]:\n",
    "    #    result.append(i.argmax(axis=0))\n",
    "    return y_pred, gt\n"
   ]
  },
  {
   "cell_type": "code",
   "execution_count": 11,
   "metadata": {},
   "outputs": [],
   "source": [
    "from sklearn.metrics import confusion_matrix\n",
    "import numpy as np\n",
    "def get_mpca(pred, gt): \n",
    "    cm = confusion_matrix(y_true, y_pred)\n",
    "    cm = cm.astype('float') / cm.sum(axis=1)[:, np.newaxis]\n",
    "    result = cm.diagonal()\n",
    "    return(result)"
   ]
  },
  {
   "cell_type": "code",
   "execution_count": 12,
   "metadata": {},
   "outputs": [],
   "source": [
    "from sklearn.metrics import f1_score\n",
    "def get_f1(pred, gt): \n",
    "    f1 = f1_score(gt, pred, average='weighted')\n",
    "    return(f1)"
   ]
  },
  {
   "cell_type": "code",
   "execution_count": 13,
   "metadata": {},
   "outputs": [],
   "source": [
    "from sklearn.metrics import confusion_matrix\n",
    "import numpy as np\n",
    "def get_pca(pred, gt): \n",
    "    cm = confusion_matrix(gt, pred)\n",
    "    cm = cm.astype('float') / cm.sum(axis=1)[:, np.newaxis]\n",
    "    result = cm.diagonal()\n",
    "    return(result)"
   ]
  },
  {
   "cell_type": "code",
   "execution_count": 14,
   "metadata": {},
   "outputs": [],
   "source": [
    "from sklearn.metrics import accuracy_score\n",
    "def get_acc(pred, gt):\n",
    "    acc = accuracy_score(gt, pred)\n",
    "    return(acc) "
   ]
  },
  {
   "cell_type": "code",
   "execution_count": 15,
   "metadata": {
    "colab": {
     "base_uri": "https://localhost:8080/",
     "height": 35
    },
    "colab_type": "code",
    "id": "xA-7_XnlXWgR",
    "outputId": "73873740-9e6c-44d5-cc92-f3b8db5703c6"
   },
   "outputs": [
    {
     "data": {
      "text/plain": [
       "20"
      ]
     },
     "execution_count": 15,
     "metadata": {},
     "output_type": "execute_result"
    }
   ],
   "source": [
    "max_epochs = opt.max\n",
    "max_epochs"
   ]
  },
  {
   "cell_type": "code",
   "execution_count": 16,
   "metadata": {
    "colab": {},
    "colab_type": "code",
    "id": "LP2gkuBMXyPs"
   },
   "outputs": [],
   "source": [
    "csv_path = {'train':\"/media/data/weiling/Action_Category_CVG/00_datasets/Weiling_data/fake_label_5/S*.csv\", 'val':\"/media/data/weiling/Action_Category_CVG/00_datasets/Weiling_data/fake_label_5/S*.csv\"}\n",
    "npy_path = {'train':\"/media/data/weiling/Action_Category_CVG/00_datasets/Weiling_data/fake_3d_5/S*.npy\",'val':\"/media/data/weiling/Action_Category_CVG/00_datasets/Weiling_data/fake_3d_5/S*.npy\"}\n"
   ]
  },
  {
   "cell_type": "code",
   "execution_count": 17,
   "metadata": {
    "colab": {},
    "colab_type": "code",
    "id": "uv7OKtbffDTW"
   },
   "outputs": [],
   "source": [
    "n_classes = 10\n",
    "input_channels = 1\n",
    "channel_sizes = [25]*8\n",
    "seq_length = int(2400 / input_channels)\n",
    "time_steps= 2400\n",
    "num_variables= 1\n",
    "num_classes= 10\n",
    "lstm_hs= 64\n",
    "model = LSTMTCN(time_steps, num_variables, num_classes, lstm_hs, input_channels, n_classes, channel_sizes, kernel_size=7, dropout=0.05).cuda()\n",
    "#model = simpleLSTM(input_size=96, hidden_size=64, num_layers=25, num_classes=10).cuda() "
   ]
  },
  {
   "cell_type": "code",
   "execution_count": 18,
   "metadata": {
    "colab": {
     "base_uri": "https://localhost:8080/",
     "height": 88
    },
    "colab_type": "code",
    "id": "dACZXae1YSzF",
    "outputId": "bef69f9c-6231-4564-a864-ea1827f53b49"
   },
   "outputs": [
    {
     "name": "stdout",
     "output_type": "stream",
     "text": [
      "8\n",
      "length of input skeleton is:4973 mod of batch size is:45\n",
      "length of input label is:4973 mod of batch size is:45\n",
      "8\n",
      "length of input skeleton is:4973 mod of batch size is:45\n",
      "length of input label is:4973 mod of batch size is:45\n"
     ]
    }
   ],
   "source": [
    "training_set = my_dataset(csv_path['train'], npy_path['train'], data['Data_hz'],data['Frame_len'])\n",
    "training_generator = DataLoader(training_set, **params)\n",
    "validation_set = my_dataset(csv_path['val'], npy_path['val'],data['Data_hz'],data['Frame_len'])\n",
    "validation_generator = DataLoader(validation_set, **params)"
   ]
  },
  {
   "cell_type": "code",
   "execution_count": 19,
   "metadata": {
    "colab": {
     "base_uri": "https://localhost:8080/",
     "height": 53
    },
    "colab_type": "code",
    "id": "z8Zo2F64iBd2",
    "outputId": "81b859bf-3d4e-4f71-9461-70caa9ec88fb"
   },
   "outputs": [
    {
     "name": "stdout",
     "output_type": "stream",
     "text": [
      "True\n",
      "True LSTM(2400, 64)\n",
      "True Linear(in_features=64, out_features=10, bias=True)\n",
      "True LogSoftmax()\n",
      "True\n",
      "True TemporalConvNet(\n",
      "  (network): Sequential(\n",
      "    (0): TemporalBlock(\n",
      "      (conv1): Conv1d(1, 25, kernel_size=(7,), stride=(1,), padding=(6,))\n",
      "      (chomp1): Chomp1d()\n",
      "      (relu1): ReLU()\n",
      "      (dropout1): Dropout(p=0.05, inplace=False)\n",
      "      (conv2): Conv1d(25, 25, kernel_size=(7,), stride=(1,), padding=(6,))\n",
      "      (chomp2): Chomp1d()\n",
      "      (relu2): ReLU()\n",
      "      (dropout2): Dropout(p=0.05, inplace=False)\n",
      "      (net): Sequential(\n",
      "        (0): Conv1d(1, 25, kernel_size=(7,), stride=(1,), padding=(6,))\n",
      "        (1): Chomp1d()\n",
      "        (2): ReLU()\n",
      "        (3): Dropout(p=0.05, inplace=False)\n",
      "        (4): Conv1d(25, 25, kernel_size=(7,), stride=(1,), padding=(6,))\n",
      "        (5): Chomp1d()\n",
      "        (6): ReLU()\n",
      "        (7): Dropout(p=0.05, inplace=False)\n",
      "      )\n",
      "      (downsample): Conv1d(1, 25, kernel_size=(1,), stride=(1,))\n",
      "      (relu): ReLU()\n",
      "    )\n",
      "    (1): TemporalBlock(\n",
      "      (conv1): Conv1d(25, 25, kernel_size=(7,), stride=(1,), padding=(12,), dilation=(2,))\n",
      "      (chomp1): Chomp1d()\n",
      "      (relu1): ReLU()\n",
      "      (dropout1): Dropout(p=0.05, inplace=False)\n",
      "      (conv2): Conv1d(25, 25, kernel_size=(7,), stride=(1,), padding=(12,), dilation=(2,))\n",
      "      (chomp2): Chomp1d()\n",
      "      (relu2): ReLU()\n",
      "      (dropout2): Dropout(p=0.05, inplace=False)\n",
      "      (net): Sequential(\n",
      "        (0): Conv1d(25, 25, kernel_size=(7,), stride=(1,), padding=(12,), dilation=(2,))\n",
      "        (1): Chomp1d()\n",
      "        (2): ReLU()\n",
      "        (3): Dropout(p=0.05, inplace=False)\n",
      "        (4): Conv1d(25, 25, kernel_size=(7,), stride=(1,), padding=(12,), dilation=(2,))\n",
      "        (5): Chomp1d()\n",
      "        (6): ReLU()\n",
      "        (7): Dropout(p=0.05, inplace=False)\n",
      "      )\n",
      "      (relu): ReLU()\n",
      "    )\n",
      "    (2): TemporalBlock(\n",
      "      (conv1): Conv1d(25, 25, kernel_size=(7,), stride=(1,), padding=(24,), dilation=(4,))\n",
      "      (chomp1): Chomp1d()\n",
      "      (relu1): ReLU()\n",
      "      (dropout1): Dropout(p=0.05, inplace=False)\n",
      "      (conv2): Conv1d(25, 25, kernel_size=(7,), stride=(1,), padding=(24,), dilation=(4,))\n",
      "      (chomp2): Chomp1d()\n",
      "      (relu2): ReLU()\n",
      "      (dropout2): Dropout(p=0.05, inplace=False)\n",
      "      (net): Sequential(\n",
      "        (0): Conv1d(25, 25, kernel_size=(7,), stride=(1,), padding=(24,), dilation=(4,))\n",
      "        (1): Chomp1d()\n",
      "        (2): ReLU()\n",
      "        (3): Dropout(p=0.05, inplace=False)\n",
      "        (4): Conv1d(25, 25, kernel_size=(7,), stride=(1,), padding=(24,), dilation=(4,))\n",
      "        (5): Chomp1d()\n",
      "        (6): ReLU()\n",
      "        (7): Dropout(p=0.05, inplace=False)\n",
      "      )\n",
      "      (relu): ReLU()\n",
      "    )\n",
      "    (3): TemporalBlock(\n",
      "      (conv1): Conv1d(25, 25, kernel_size=(7,), stride=(1,), padding=(48,), dilation=(8,))\n",
      "      (chomp1): Chomp1d()\n",
      "      (relu1): ReLU()\n",
      "      (dropout1): Dropout(p=0.05, inplace=False)\n",
      "      (conv2): Conv1d(25, 25, kernel_size=(7,), stride=(1,), padding=(48,), dilation=(8,))\n",
      "      (chomp2): Chomp1d()\n",
      "      (relu2): ReLU()\n",
      "      (dropout2): Dropout(p=0.05, inplace=False)\n",
      "      (net): Sequential(\n",
      "        (0): Conv1d(25, 25, kernel_size=(7,), stride=(1,), padding=(48,), dilation=(8,))\n",
      "        (1): Chomp1d()\n",
      "        (2): ReLU()\n",
      "        (3): Dropout(p=0.05, inplace=False)\n",
      "        (4): Conv1d(25, 25, kernel_size=(7,), stride=(1,), padding=(48,), dilation=(8,))\n",
      "        (5): Chomp1d()\n",
      "        (6): ReLU()\n",
      "        (7): Dropout(p=0.05, inplace=False)\n",
      "      )\n",
      "      (relu): ReLU()\n",
      "    )\n",
      "    (4): TemporalBlock(\n",
      "      (conv1): Conv1d(25, 25, kernel_size=(7,), stride=(1,), padding=(96,), dilation=(16,))\n",
      "      (chomp1): Chomp1d()\n",
      "      (relu1): ReLU()\n",
      "      (dropout1): Dropout(p=0.05, inplace=False)\n",
      "      (conv2): Conv1d(25, 25, kernel_size=(7,), stride=(1,), padding=(96,), dilation=(16,))\n",
      "      (chomp2): Chomp1d()\n",
      "      (relu2): ReLU()\n",
      "      (dropout2): Dropout(p=0.05, inplace=False)\n",
      "      (net): Sequential(\n",
      "        (0): Conv1d(25, 25, kernel_size=(7,), stride=(1,), padding=(96,), dilation=(16,))\n",
      "        (1): Chomp1d()\n",
      "        (2): ReLU()\n",
      "        (3): Dropout(p=0.05, inplace=False)\n",
      "        (4): Conv1d(25, 25, kernel_size=(7,), stride=(1,), padding=(96,), dilation=(16,))\n",
      "        (5): Chomp1d()\n",
      "        (6): ReLU()\n",
      "        (7): Dropout(p=0.05, inplace=False)\n",
      "      )\n",
      "      (relu): ReLU()\n",
      "    )\n",
      "    (5): TemporalBlock(\n",
      "      (conv1): Conv1d(25, 25, kernel_size=(7,), stride=(1,), padding=(192,), dilation=(32,))\n",
      "      (chomp1): Chomp1d()\n",
      "      (relu1): ReLU()\n",
      "      (dropout1): Dropout(p=0.05, inplace=False)\n",
      "      (conv2): Conv1d(25, 25, kernel_size=(7,), stride=(1,), padding=(192,), dilation=(32,))\n",
      "      (chomp2): Chomp1d()\n",
      "      (relu2): ReLU()\n",
      "      (dropout2): Dropout(p=0.05, inplace=False)\n",
      "      (net): Sequential(\n",
      "        (0): Conv1d(25, 25, kernel_size=(7,), stride=(1,), padding=(192,), dilation=(32,))\n",
      "        (1): Chomp1d()\n",
      "        (2): ReLU()\n",
      "        (3): Dropout(p=0.05, inplace=False)\n",
      "        (4): Conv1d(25, 25, kernel_size=(7,), stride=(1,), padding=(192,), dilation=(32,))\n",
      "        (5): Chomp1d()\n",
      "        (6): ReLU()\n",
      "        (7): Dropout(p=0.05, inplace=False)\n",
      "      )\n",
      "      (relu): ReLU()\n",
      "    )\n",
      "    (6): TemporalBlock(\n",
      "      (conv1): Conv1d(25, 25, kernel_size=(7,), stride=(1,), padding=(384,), dilation=(64,))\n",
      "      (chomp1): Chomp1d()\n",
      "      (relu1): ReLU()\n",
      "      (dropout1): Dropout(p=0.05, inplace=False)\n",
      "      (conv2): Conv1d(25, 25, kernel_size=(7,), stride=(1,), padding=(384,), dilation=(64,))\n",
      "      (chomp2): Chomp1d()\n",
      "      (relu2): ReLU()\n",
      "      (dropout2): Dropout(p=0.05, inplace=False)\n",
      "      (net): Sequential(\n",
      "        (0): Conv1d(25, 25, kernel_size=(7,), stride=(1,), padding=(384,), dilation=(64,))\n",
      "        (1): Chomp1d()\n",
      "        (2): ReLU()\n",
      "        (3): Dropout(p=0.05, inplace=False)\n",
      "        (4): Conv1d(25, 25, kernel_size=(7,), stride=(1,), padding=(384,), dilation=(64,))\n",
      "        (5): Chomp1d()\n",
      "        (6): ReLU()\n",
      "        (7): Dropout(p=0.05, inplace=False)\n",
      "      )\n",
      "      (relu): ReLU()\n",
      "    )\n",
      "    (7): TemporalBlock(\n",
      "      (conv1): Conv1d(25, 25, kernel_size=(7,), stride=(1,), padding=(768,), dilation=(128,))\n",
      "      (chomp1): Chomp1d()\n",
      "      (relu1): ReLU()\n",
      "      (dropout1): Dropout(p=0.05, inplace=False)\n",
      "      (conv2): Conv1d(25, 25, kernel_size=(7,), stride=(1,), padding=(768,), dilation=(128,))\n",
      "      (chomp2): Chomp1d()\n",
      "      (relu2): ReLU()\n",
      "      (dropout2): Dropout(p=0.05, inplace=False)\n",
      "      (net): Sequential(\n",
      "        (0): Conv1d(25, 25, kernel_size=(7,), stride=(1,), padding=(768,), dilation=(128,))\n",
      "        (1): Chomp1d()\n",
      "        (2): ReLU()\n",
      "        (3): Dropout(p=0.05, inplace=False)\n",
      "        (4): Conv1d(25, 25, kernel_size=(7,), stride=(1,), padding=(768,), dilation=(128,))\n",
      "        (5): Chomp1d()\n",
      "        (6): ReLU()\n",
      "        (7): Dropout(p=0.05, inplace=False)\n",
      "      )\n",
      "      (relu): ReLU()\n",
      "    )\n",
      "  )\n",
      ")\n",
      "True Linear(in_features=25, out_features=10, bias=True)\n",
      "True LogSoftmax()\n",
      "True\n",
      "True\n"
     ]
    }
   ],
   "source": [
    "# model summary\n",
    "for m in model.children():\n",
    "    print(m.training)#, m)\n",
    "    for j in m.children():\n",
    "        print(j.training, j)"
   ]
  },
  {
   "cell_type": "code",
   "execution_count": 20,
   "metadata": {
    "colab": {},
    "colab_type": "code",
    "id": "U1DThhC7iZun"
   },
   "outputs": [],
   "source": [
    "class_weight=torch.tensor([4.63958011e+01,8.34755467e+00,2.09941000e+04,4.81295277e+00,3.55832203e+00,5.55399471e+01,5.31617331e-01,2.31199824e+00,3.09034438e-01,2.62996624e-01])\n",
    "#class_weight=torch.tensor([51.55064457,9.27501657,5.34769983,3.95367232,61.71075838,0.59068311,2.56887469,0.34336996,0.29221708])\n",
    "loss_func = nn.NLLLoss(weight=class_weight).cuda()\n",
    "#loss_func = nn.NLLLoss().cuda()"
   ]
  },
  {
   "cell_type": "code",
   "execution_count": 21,
   "metadata": {
    "colab": {
     "base_uri": "https://localhost:8080/",
     "height": 1000
    },
    "colab_type": "code",
    "id": "vSrmO0crlYFK",
    "outputId": "32932421-6b9e-4915-f172-15e184b5e595"
   },
   "outputs": [
    {
     "name": "stdout",
     "output_type": "stream",
     "text": [
      "698946\n"
     ]
    }
   ],
   "source": [
    "[p.shape for p in model.parameters()]\n",
    "print(sum(p.numel() for p in model.parameters()))"
   ]
  },
  {
   "cell_type": "code",
   "execution_count": 22,
   "metadata": {
    "colab": {
     "base_uri": "https://localhost:8080/",
     "height": 207
    },
    "colab_type": "code",
    "id": "WRckho10lZcL",
    "outputId": "5db13f75-65da-403a-a55a-5b9e8db7061f"
   },
   "outputs": [],
   "source": [
    "\n",
    "from torch import optim\n",
    "lr = 2e-2\n",
    "learner = SimpleLearner([training_generator, validation_generator], model, loss_func)\n"
   ]
  },
  {
   "cell_type": "code",
   "execution_count": 23,
   "metadata": {
    "colab": {},
    "colab_type": "code",
    "id": "f6aNgsuzunYb"
   },
   "outputs": [
    {
     "name": "stdout",
     "output_type": "stream",
     "text": [
      "torch.Size([64, 64])\n",
      "torch.Size([64, 25])\n",
      "torch.Size([64, 89])\n"
     ]
    },
    {
     "ename": "RuntimeError",
     "evalue": "cuda runtime error (59) : device-side assert triggered at /pytorch/aten/src/THC/generic/THCTensorMath.cu:26",
     "output_type": "error",
     "traceback": [
      "\u001b[0;31m---------------------------------------------------------------------------\u001b[0m",
      "\u001b[0;31mRuntimeError\u001b[0m                              Traceback (most recent call last)",
      "\u001b[0;32m<ipython-input-23-b84bf1c32384>\u001b[0m in \u001b[0;36m<module>\u001b[0;34m\u001b[0m\n\u001b[0;32m----> 1\u001b[0;31m \u001b[0mlosses\u001b[0m \u001b[0;34m=\u001b[0m \u001b[0mlearner\u001b[0m\u001b[0;34m.\u001b[0m\u001b[0mfit\u001b[0m\u001b[0;34m(\u001b[0m\u001b[0;36m2\u001b[0m\u001b[0;34m)\u001b[0m\u001b[0;34m\u001b[0m\u001b[0m\n\u001b[0m",
      "\u001b[0;32m<ipython-input-9-36e23ffa2bd7>\u001b[0m in \u001b[0;36mfit\u001b[0;34m(self, epochs, lr)\u001b[0m\n\u001b[1;32m     35\u001b[0m         \u001b[0;32mfor\u001b[0m \u001b[0mi\u001b[0m \u001b[0;32min\u001b[0m \u001b[0mrange\u001b[0m\u001b[0;34m(\u001b[0m\u001b[0mepochs\u001b[0m\u001b[0;34m)\u001b[0m\u001b[0;34m:\u001b[0m\u001b[0;34m\u001b[0m\u001b[0m\n\u001b[1;32m     36\u001b[0m             \u001b[0;32mfor\u001b[0m \u001b[0mx\u001b[0m\u001b[0;34m,\u001b[0m\u001b[0my\u001b[0m \u001b[0;32min\u001b[0m \u001b[0mself\u001b[0m\u001b[0;34m.\u001b[0m\u001b[0mdata\u001b[0m\u001b[0;34m[\u001b[0m\u001b[0;36m0\u001b[0m\u001b[0;34m]\u001b[0m\u001b[0;34m:\u001b[0m\u001b[0;34m\u001b[0m\u001b[0m\n\u001b[0;32m---> 37\u001b[0;31m                 \u001b[0mcurrent_loss\u001b[0m \u001b[0;34m=\u001b[0m \u001b[0mself\u001b[0m\u001b[0;34m.\u001b[0m\u001b[0mupdate\u001b[0m\u001b[0;34m(\u001b[0m\u001b[0mx\u001b[0m\u001b[0;34m,\u001b[0m \u001b[0my\u001b[0m \u001b[0;34m,\u001b[0m \u001b[0mlr\u001b[0m\u001b[0;34m)\u001b[0m\u001b[0;34m\u001b[0m\u001b[0m\n\u001b[0m\u001b[1;32m     38\u001b[0m                 \u001b[0mlosses\u001b[0m\u001b[0;34m.\u001b[0m\u001b[0mappend\u001b[0m\u001b[0;34m(\u001b[0m\u001b[0mcurrent_loss\u001b[0m\u001b[0;34m)\u001b[0m\u001b[0;34m\u001b[0m\u001b[0m\n\u001b[1;32m     39\u001b[0m         \u001b[0;32mreturn\u001b[0m \u001b[0mlosses\u001b[0m\u001b[0;34m\u001b[0m\u001b[0m\n",
      "\u001b[0;32m<ipython-input-9-36e23ffa2bd7>\u001b[0m in \u001b[0;36mupdate\u001b[0;34m(self, x, y, lr)\u001b[0m\n\u001b[1;32m     25\u001b[0m         \u001b[0my_hat\u001b[0m \u001b[0;34m=\u001b[0m \u001b[0mself\u001b[0m\u001b[0;34m.\u001b[0m\u001b[0mmodel\u001b[0m\u001b[0;34m(\u001b[0m\u001b[0mx\u001b[0m\u001b[0;34m)\u001b[0m\u001b[0;34m\u001b[0m\u001b[0m\n\u001b[1;32m     26\u001b[0m         \u001b[0mloss\u001b[0m \u001b[0;34m=\u001b[0m \u001b[0mself\u001b[0m\u001b[0;34m.\u001b[0m\u001b[0mloss_func\u001b[0m\u001b[0;34m(\u001b[0m\u001b[0my_hat\u001b[0m\u001b[0;34m,\u001b[0m \u001b[0my\u001b[0m\u001b[0;34m)\u001b[0m\u001b[0;34m\u001b[0m\u001b[0m\n\u001b[0;32m---> 27\u001b[0;31m         \u001b[0mloss\u001b[0m\u001b[0;34m.\u001b[0m\u001b[0mbackward\u001b[0m\u001b[0;34m(\u001b[0m\u001b[0;34m)\u001b[0m\u001b[0;34m\u001b[0m\u001b[0m\n\u001b[0m\u001b[1;32m     28\u001b[0m         \u001b[0mopt\u001b[0m\u001b[0;34m.\u001b[0m\u001b[0mstep\u001b[0m\u001b[0;34m(\u001b[0m\u001b[0;34m)\u001b[0m\u001b[0;34m\u001b[0m\u001b[0m\n\u001b[1;32m     29\u001b[0m         \u001b[0mopt\u001b[0m\u001b[0;34m.\u001b[0m\u001b[0mzero_grad\u001b[0m\u001b[0;34m(\u001b[0m\u001b[0;34m)\u001b[0m\u001b[0;34m\u001b[0m\u001b[0m\n",
      "\u001b[0;32m~/my_envi/pytorch_py3/lib/python3.5/site-packages/torch/tensor.py\u001b[0m in \u001b[0;36mbackward\u001b[0;34m(self, gradient, retain_graph, create_graph)\u001b[0m\n\u001b[1;32m    116\u001b[0m                 \u001b[0mproducts\u001b[0m\u001b[0;34m.\u001b[0m \u001b[0mDefaults\u001b[0m \u001b[0mto\u001b[0m\u001b[0;31m \u001b[0m\u001b[0;31m`\u001b[0m\u001b[0;31m`\u001b[0m\u001b[0;32mFalse\u001b[0m\u001b[0;31m`\u001b[0m\u001b[0;31m`\u001b[0m\u001b[0;34m.\u001b[0m\u001b[0;34m\u001b[0m\u001b[0m\n\u001b[1;32m    117\u001b[0m         \"\"\"\n\u001b[0;32m--> 118\u001b[0;31m         \u001b[0mtorch\u001b[0m\u001b[0;34m.\u001b[0m\u001b[0mautograd\u001b[0m\u001b[0;34m.\u001b[0m\u001b[0mbackward\u001b[0m\u001b[0;34m(\u001b[0m\u001b[0mself\u001b[0m\u001b[0;34m,\u001b[0m \u001b[0mgradient\u001b[0m\u001b[0;34m,\u001b[0m \u001b[0mretain_graph\u001b[0m\u001b[0;34m,\u001b[0m \u001b[0mcreate_graph\u001b[0m\u001b[0;34m)\u001b[0m\u001b[0;34m\u001b[0m\u001b[0m\n\u001b[0m\u001b[1;32m    119\u001b[0m \u001b[0;34m\u001b[0m\u001b[0m\n\u001b[1;32m    120\u001b[0m     \u001b[0;32mdef\u001b[0m \u001b[0mregister_hook\u001b[0m\u001b[0;34m(\u001b[0m\u001b[0mself\u001b[0m\u001b[0;34m,\u001b[0m \u001b[0mhook\u001b[0m\u001b[0;34m)\u001b[0m\u001b[0;34m:\u001b[0m\u001b[0;34m\u001b[0m\u001b[0m\n",
      "\u001b[0;32m~/my_envi/pytorch_py3/lib/python3.5/site-packages/torch/autograd/__init__.py\u001b[0m in \u001b[0;36mbackward\u001b[0;34m(tensors, grad_tensors, retain_graph, create_graph, grad_variables)\u001b[0m\n\u001b[1;32m     91\u001b[0m     Variable._execution_engine.run_backward(\n\u001b[1;32m     92\u001b[0m         \u001b[0mtensors\u001b[0m\u001b[0;34m,\u001b[0m \u001b[0mgrad_tensors\u001b[0m\u001b[0;34m,\u001b[0m \u001b[0mretain_graph\u001b[0m\u001b[0;34m,\u001b[0m \u001b[0mcreate_graph\u001b[0m\u001b[0;34m,\u001b[0m\u001b[0;34m\u001b[0m\u001b[0m\n\u001b[0;32m---> 93\u001b[0;31m         allow_unreachable=True)  # allow_unreachable flag\n\u001b[0m\u001b[1;32m     94\u001b[0m \u001b[0;34m\u001b[0m\u001b[0m\n\u001b[1;32m     95\u001b[0m \u001b[0;34m\u001b[0m\u001b[0m\n",
      "\u001b[0;31mRuntimeError\u001b[0m: cuda runtime error (59) : device-side assert triggered at /pytorch/aten/src/THC/generic/THCTensorMath.cu:26"
     ]
    }
   ],
   "source": [
    "losses = learner.fit(2)"
   ]
  },
  {
   "cell_type": "code",
   "execution_count": null,
   "metadata": {},
   "outputs": [],
   "source": [
    "plt.plot(losses)\n"
   ]
  },
  {
   "cell_type": "code",
   "execution_count": null,
   "metadata": {},
   "outputs": [],
   "source": [
    "print(real_evaluation(validation_generator))\n",
    "print(len(real_evaluation(validation_generator)))\n"
   ]
  },
  {
   "cell_type": "code",
   "execution_count": null,
   "metadata": {},
   "outputs": [],
   "source": [
    "\n"
   ]
  }
 ],
 "metadata": {
  "accelerator": "GPU",
  "colab": {
   "name": "LSTM.ipynb",
   "provenance": []
  },
  "kernelspec": {
   "display_name": "Python 3",
   "language": "python",
   "name": "python3"
  },
  "language_info": {
   "codemirror_mode": {
    "name": "ipython",
    "version": 3
   },
   "file_extension": ".py",
   "mimetype": "text/x-python",
   "name": "python",
   "nbconvert_exporter": "python",
   "pygments_lexer": "ipython3",
   "version": "3.5.2"
  }
 },
 "nbformat": 4,
 "nbformat_minor": 1
}
